{
 "cells": [
  {
   "cell_type": "code",
   "execution_count": 13,
   "id": "d770fd37",
   "metadata": {},
   "outputs": [],
   "source": [
    "import numpy as np\n",
    "import matplotlib.pyplot as plt\n",
    "from mpl_toolkits.axes_grid1.inset_locator import inset_axes\n",
    "import pylcp\n",
    "import scipy.constants as cts\n",
    "from pylcp.common import progressBar\n",
    "import pandas as pd"
   ]
  },
  {
   "cell_type": "code",
   "execution_count": 14,
   "id": "21439ad9",
   "metadata": {},
   "outputs": [],
   "source": [
    "# Set to \"rateeq\" or \"obe\" for different models.\n",
    "eq = \"obe\""
   ]
  },
  {
   "cell_type": "code",
   "execution_count": 15,
   "id": "97bc898b",
   "metadata": {},
   "outputs": [
    {
     "name": "stdout",
     "output_type": "stream",
     "text": [
      "basis_g = \n",
      " [[ 1.  1.  1.  2.  2.  2.  2.  2.]\n",
      " [-1.  0.  1. -2. -1.  0.  1.  2.]]\n",
      "basis_e = \n",
      " [[ 0.  1.  1.  1.  2.  2.  2.  2.  2.  3.  3.  3.  3.  3.  3.  3.]\n",
      " [-0. -1.  0.  1. -2. -1.  0.  1.  2. -3. -2. -1.  0.  1.  2.  3.]]\n"
     ]
    }
   ],
   "source": [
    "det = -2.0\n",
    "alpha = 1.0\n",
    "s = 1.0\n",
    "\n",
    "# Define the atomic Hamiltonian for 7Li:\n",
    "atom = pylcp.atom(\"39K\")\n",
    "H_g_D2, mu_q_g_D2, basis_g = pylcp.hamiltonians.hyperfine_coupled(\n",
    "    atom.state[0].J, atom.I, atom.state[0].gJ, atom.gI,\n",
    "    atom.state[0].Ahfs/atom.state[2].gammaHz, Bhfs=0, Chfs=0,\n",
    "    muB=1, return_basis=True)\n",
    "H_e_D2, mu_q_e_D2, basis_e = pylcp.hamiltonians.hyperfine_coupled(\n",
    "    atom.state[2].J, atom.I, atom.state[2].gJ, atom.gI,\n",
    "    Ahfs=atom.state[2].Ahfs/atom.state[2].gammaHz,\n",
    "    Bhfs=atom.state[2].Bhfs/atom.state[2].gammaHz, Chfs=0,\n",
    "    muB=1, return_basis=True)\n",
    "\n",
    "dijq_D2 = pylcp.hamiltonians.dqij_two_hyperfine_manifolds(\n",
    "    atom.state[0].J, atom.state[2].J, atom.I)\n",
    "\n",
    "E_e_D2 = np.unique(np.diagonal(H_e_D2))\n",
    "E_g_D2 = np.unique(np.diagonal(H_g_D2))\n",
    "\n",
    "hamiltonian_D2 = pylcp.hamiltonian(H_g_D2, H_e_D2, mu_q_g_D2, mu_q_e_D2, dijq_D2)\n",
    "\n",
    "# Now, we need two sets of laser beams -> one for F=1->2 and one for F=2->3:\n",
    "laserBeams_cooling_D2 = pylcp.conventional3DMOTBeams(\n",
    "    s=s, delta=(E_e_D2[3] - E_g_D2[1]) + det)\n",
    "laserBeams_repump_D2 = pylcp.conventional3DMOTBeams(\n",
    "    s=s, delta=(E_e_D2[2] - E_g_D2[0]) + det)\n",
    "laserBeams_D2 = laserBeams_cooling_D2 + laserBeams_repump_D2\n",
    "\n",
    "#magField = pylcp.quadrupoleMagneticField(alpha)\n",
    "magField = pylcp.constantMagneticField(np.array([0., 0., 0.]))\n",
    "\n",
    "print(\"basis_g = \\n\", basis_g)\n",
    "print(\"basis_e = \\n\", basis_e)"
   ]
  },
  {
   "cell_type": "code",
   "execution_count": 16,
   "id": "bc3d2c20",
   "metadata": {},
   "outputs": [
    {
     "name": "stdout",
     "output_type": "stream",
     "text": [
      "[-3.20874742 -2.66081853 -1.10335513  2.38685409]\n",
      "[-47.8132692   28.68796152]\n",
      "-3.2087474166927454\n"
     ]
    }
   ],
   "source": [
    "print(E_e_D2)\n",
    "print(E_g_D2)\n",
    "print(E_e_D2[0])"
   ]
  },
  {
   "cell_type": "code",
   "execution_count": 17,
   "id": "a0b8ad88",
   "metadata": {},
   "outputs": [
    {
     "name": "stdout",
     "output_type": "stream",
     "text": [
      "Completed in 17:02:59.                                               \n"
     ]
    }
   ],
   "source": [
    "x = np.linspace(0.0, 0.0, num=1)\n",
    "v = np.concatenate((np.linspace(1e-2, 0.5, num=10),\n",
    "              np.linspace(0.5, 2.5, num=5)))\n",
    "\n",
    "#dx = np.mean(np.diff(x))\n",
    "#dv = np.mean(np.diff(v))\n",
    "\n",
    "X, V = np.meshgrid(x, v)\n",
    "\n",
    "# Define the trap:\n",
    "if eq == \"rateeq\":\n",
    "    trap_D2 = pylcp.rateeq(\n",
    "        laserBeams_D2, magField, hamiltonian_D2,\n",
    "        include_mag_forces=False\n",
    "    )\n",
    "else:\n",
    "    trap_D2 = pylcp.obe(\n",
    "        laserBeams_D2, magField, hamiltonian_D2,\n",
    "        include_mag_forces=False\n",
    "    )\n",
    "trap_D2.generate_force_profile(\n",
    "    [np.zeros(X.shape), np.zeros(X.shape), X],\n",
    "    [np.zeros(V.shape), np.zeros(V.shape), V],\n",
    "    name='Fz', progress_bar=True)\n",
    "Fz_D2 = trap_D2.profile['Fz'].F[2]"
   ]
  },
  {
   "cell_type": "code",
   "execution_count": 18,
   "id": "55576c53",
   "metadata": {},
   "outputs": [
    {
     "data": {
      "text/plain": [
       "[<matplotlib.lines.Line2D at 0x7f12ce79ceb0>]"
      ]
     },
     "execution_count": 18,
     "metadata": {},
     "output_type": "execute_result"
    },
    {
     "data": {
      "image/png": "[encoded data removed]",
      "text/plain": [
       "<Figure size 432x288 with 1 Axes>"
      ]
     },
     "metadata": {
      "needs_background": "light"
     },
     "output_type": "display_data"
    }
   ],
   "source": [
    "fig, ax = plt.subplots()\n",
    "ax.plot(V, Fz_D2, '.')"
   ]
  },
  {
   "cell_type": "code",
   "execution_count": null,
   "id": "b0ea6881",
   "metadata": {},
   "outputs": [],
   "source": []
  }
 ],
 "metadata": {
  "kernelspec": {
   "display_name": "Python 3 (ipykernel)",
   "language": "python",
   "name": "python3"
  },
  "language_info": {
   "codemirror_mode": {
    "name": "ipython",
    "version": 3
   },
   "file_extension": ".py",
   "mimetype": "text/x-python",
   "name": "python",
   "nbconvert_exporter": "python",
   "pygments_lexer": "ipython3",
   "version": "3.10.4"
  }
 },
 "nbformat": 4,
 "nbformat_minor": 5
}

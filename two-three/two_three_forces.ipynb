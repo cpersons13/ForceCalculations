{
 "cells": [
  {
   "cell_type": "code",
   "execution_count": 43,
   "id": "7fdeaa00",
   "metadata": {},
   "outputs": [],
   "source": [
    "import numpy as np\n",
    "import matplotlib.pyplot as plt\n",
    "from mpl_toolkits.axes_grid1.inset_locator import inset_axes\n",
    "import pylcp\n",
    "import scipy.constants as cts\n",
    "from pylcp.common import progressBar\n",
    "import pandas as pd"
   ]
  },
  {
   "cell_type": "markdown",
   "id": "8880bc81",
   "metadata": {},
   "source": [
    "# Forces for $F = 2 \\rightarrow F'=3$\n",
    "\n",
    "Based on [this example](https://python-laser-cooling-physics.readthedocs.io/en/latest/examples/molasses/02_F2_to_F3_1D_molasses.html) from pyLCP. Changed sodium to potassium.\n",
    "\n",
    "Current goals:\n",
    "- Remove extra polarizations\n",
    "- Add negative points to the domain of the force calculation."
   ]
  },
  {
   "cell_type": "markdown",
   "id": "7de495a9",
   "metadata": {},
   "source": [
    "## Dimensionless magnetic field\n",
    "\n",
    "We need a dimenionless magnetic field unit for the simulation. `pyLCP` sets the following by default:\n",
    "$$\\mu_B = \\hbar = \\Gamma = k = 1$$\n",
    "So, we need a natural unit of magnetic field. $$\\mu_B$$ has units of energy per magnetic field. $$\\hbar$$ has units of action, _i.e._ energy times time. $$\\Gamma$$ has units of inverse time. Thus, we define a natural unit of magnetic field:\n",
    "$$H_0 = \\frac{\\hbar \\Gamma}{\\mu_B}$$\n",
    "\n",
    "Take the following values, in mostly SI units:\n",
    "\n",
    "$\\hbar = 6.58 \\times 10^{-16} eV \\cdot s$\n",
    "\n",
    "$\\Gamma = 2\\pi 6 ~\\textrm{MHz} = 2\\pi \\times 6.0 \\times 10^{6} s^{-1}$ (for $^{41} K$, from Tiecke)\n",
    "\n",
    "$\\mu_B = 5.788 \\times 10^{-5} \\textrm{eV / T}$"
   ]
  },
  {
   "cell_type": "code",
   "execution_count": 44,
   "id": "739e654c",
   "metadata": {},
   "outputs": [
    {
     "name": "stdout",
     "output_type": "stream",
     "text": [
      "H_0 in Tesla 0.0004283593642017968\n",
      "H_0 in Gauss 4.283593642017968\n"
     ]
    }
   ],
   "source": [
    "hbar = 6.58e-16\n",
    "gamma = 2.0 * 3.14 * 6.0 * 1e6\n",
    "muB = 5.788e-5\n",
    "h0 = hbar * gamma / muB\n",
    "print(\"H_0 in Tesla\", h0)\n",
    "print(\"H_0 in Gauss\", h0 * 1.0e4)"
   ]
  },
  {
   "cell_type": "markdown",
   "id": "4413781a",
   "metadata": {},
   "source": [
    "## Simulation of molasses forces with constant $B$ field."
   ]
  },
  {
   "cell_type": "code",
   "execution_count": 45,
   "id": "9c107267",
   "metadata": {},
   "outputs": [
    {
     "name": "stdout",
     "output_type": "stream",
     "text": [
      "364.1948681855378\n"
     ]
    }
   ],
   "source": [
    "atom = pylcp.atom('41K')\n",
    "mass = (atom.state[2].gamma*atom.mass)/(cts.hbar*(100*2*np.pi*atom.transition[1].k)**2)\n",
    "print(mass)"
   ]
  },
  {
   "cell_type": "code",
   "execution_count": 46,
   "id": "d6a04550",
   "metadata": {},
   "outputs": [],
   "source": [
    "def return_hamiltonian(Fl, Delta):\n",
    "    Hg, Bgq = pylcp.hamiltonians.singleF(F=Fl, gF=0, muB=1)\n",
    "    He, Beq = pylcp.hamiltonians.singleF(F=Fl+1, gF=1/(Fl+1), muB=1)\n",
    "    dijq = pylcp.hamiltonians.dqij_two_bare_hyperfine(Fl, (Fl+1))\n",
    "    hamiltonian = pylcp.hamiltonian(Hg, -Delta*np.eye(He.shape[0])+He, Bgq, Beq, dijq, mass=mass)\n",
    "\n",
    "    return hamiltonian\n",
    "\n",
    "# Now, make 1D laser beams:\n",
    "def return_lasers(delta, s, pol):\n",
    "    if pol[0][2]>0 or pol[0][1]>0:\n",
    "        pol_coord = 'spherical'\n",
    "    else:\n",
    "        pol_coord = 'cartesian'\n",
    "\n",
    "    return pylcp.laserBeams([\n",
    "        {'kvec':np.array([0., 0., 1.]), 'pol':pol[0],\n",
    "         'pol_coord':pol_coord, 'delta':delta, 's':s},\n",
    "        {'kvec':np.array([0., 0., -1.]), 'pol':pol[1],\n",
    "         'pol_coord':pol_coord, 'delta':delta, 's':s},\n",
    "        ], beam_type=pylcp.infinitePlaneWaveBeam)\n",
    "\n",
    "magField = pylcp.constantMagneticField(np.array([0., 0., 0.]))\n",
    "\n",
    "# Now make a bunch of polarization keys:\n",
    "pols = {'$\\\\sigma^+\\\\sigma^-$':[np.array([0., 0., 1.]), np.array([1., 0., 0.])]}"
   ]
  },
  {
   "cell_type": "code",
   "execution_count": 47,
   "id": "a153c072",
   "metadata": {},
   "outputs": [
    {
     "name": "stdout",
     "output_type": "stream",
     "text": [
      "Completed in 7:50.                                                  \n"
     ]
    }
   ],
   "source": [
    "det = -2.0\n",
    "s = 1.0\n",
    "\n",
    "hamiltonian = return_hamiltonian(2, det)\n",
    "\n",
    "v = np.concatenate((np.arange(-5.1, -0.1, 0.1),\n",
    "                    np.arange(-0.1, -0.03, 0.01),\n",
    "                    np.arange(-0.03, -0.02, 0.005),\n",
    "                    np.arange(-0.02, -0.01, 0.002),\n",
    "                    np.arange(-0.01, -0.001, 0.001),\n",
    "                    np.arange(0.001, 0.01, 0.001),\n",
    "                    np.arange(0.01, 0.02, 0.002),\n",
    "                    np.arange(0.02, 0.03, 0.005),\n",
    "                    np.arange(0.03, 0.1, 0.01),\n",
    "                    np.arange(0.1, 5.1, 0.1)))\n",
    "\n",
    "obe = {}\n",
    "for key_beam in pols:\n",
    "    laserBeams = return_lasers(0., s, pol=pols[key_beam])\n",
    "\n",
    "    obe[key_beam] = pylcp.obe(\n",
    "        laserBeams, magField, hamiltonian,\n",
    "        include_mag_forces=False, transform_into_re_im=True\n",
    "    )\n",
    "\n",
    "    obe[key_beam].generate_force_profile(\n",
    "        [np.zeros(v.shape), np.zeros(v.shape), np.zeros(v.shape)],\n",
    "        [np.zeros(v.shape), np.zeros(v.shape), v],\n",
    "        name='molasses', deltat_v=4, deltat_tmax=2*np.pi*5000, itermax=1000,\n",
    "        rel=1e-8, abs=1e-10, progress_bar=True\n",
    "    )"
   ]
  },
  {
   "cell_type": "code",
   "execution_count": 48,
   "id": "b6c46760",
   "metadata": {},
   "outputs": [
    {
     "data": {
      "image/png": "[encoded data removed]",
      "text/plain": [
       "<Figure size 432x288 with 2 Axes>"
      ]
     },
     "metadata": {
      "needs_background": "light"
     },
     "output_type": "display_data"
    }
   ],
   "source": [
    "fig, ax = plt.subplots(1, 1)\n",
    "axins = inset_axes(ax, width=1.0, height=0.8)\n",
    "for key in obe:\n",
    "    if 'phi' in key:\n",
    "        linestyle='--'\n",
    "    else:\n",
    "        linestyle='-'\n",
    "\n",
    "    ax.plot(\n",
    "        v,\n",
    "        obe[key].profile['molasses'].F[2],\n",
    "        label=key, linestyle=linestyle,\n",
    "        linewidth=0.75\n",
    "    )\n",
    "    axins.plot(\n",
    "        v,\n",
    "        obe[key].profile['molasses'].F[2],\n",
    "        label=key, linestyle=linestyle,\n",
    "        linewidth=0.75\n",
    "    )\n",
    "\n",
    "ax.set_xlim(-5.0, 5.0)\n",
    "#ax.set_ylim(-0.05, 0.05)\n",
    "ax.set_xlabel('$v/(\\Gamma/k)$')\n",
    "ax.set_ylabel('$f/(\\hbar k \\Gamma)$')\n",
    "axins.set_xlim(-0.15, 0.15)\n",
    "axins.set_ylim(-0.03, 0.03)\n",
    "ax.legend(loc=\"lower right\")\n",
    "plt.savefig(\"force.png\")"
   ]
  }
 ],
 "metadata": {
  "kernelspec": {
   "display_name": "Python 3 (ipykernel)",
   "language": "python",
   "name": "python3"
  },
  "language_info": {
   "codemirror_mode": {
    "name": "ipython",
    "version": 3
   },
   "file_extension": ".py",
   "mimetype": "text/x-python",
   "name": "python",
   "nbconvert_exporter": "python",
   "pygments_lexer": "ipython3",
   "version": "3.10.4"
  }
 },
 "nbformat": 4,
 "nbformat_minor": 5
}
